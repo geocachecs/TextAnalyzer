{
 "metadata": {
  "language_info": {
   "codemirror_mode": {
    "name": "ipython",
    "version": 3
   },
   "file_extension": ".py",
   "mimetype": "text/x-python",
   "name": "python",
   "nbconvert_exporter": "python",
   "pygments_lexer": "ipython3",
   "version": "3.8.5-final"
  },
  "orig_nbformat": 2,
  "kernelspec": {
   "name": "Python 3.8.5 32-bit",
   "display_name": "Python 3.8.5 32-bit",
   "metadata": {
    "interpreter": {
     "hash": "20f95363be5b36a5aabe57aa87d9375889937fbf7f4cb55da98b36bda841e720"
    }
   }
  }
 },
 "nbformat": 4,
 "nbformat_minor": 2,
 "cells": [
  {
   "cell_type": "code",
   "execution_count": 87,
   "metadata": {},
   "outputs": [],
   "source": [
    "\n",
    "import numpy as np\n",
    "import pandas\n",
    "from copy import deepcopy\n",
    "from matplotlib import pyplot as plt\n",
    "from random import random\n",
    "from random import randint\n",
    "import re\n",
    "from warnings import warn"
   ]
  },
  {
   "cell_type": "code",
   "execution_count": 99,
   "metadata": {},
   "outputs": [],
   "source": [
    "class Gram:\n",
    "    def __init__(self, pattern, beforenum, afternum):\n",
    "        self.pattern = pattern\n",
    "        self.beforearray = np.array([dict() for _ in range(beforenum)])\n",
    "        self.afterarray = np.array([dict() for _ in range(afternum)])\n",
    "        randval = random()\n",
    "        self.hashval = hash(self.pattern + str(randval))\n",
    "        self.num_entries = 0\n",
    "\n",
    "    \n",
    "    def addGram(self, gram, pos):\n",
    "        \"\"\"\n",
    "        gram        - gram being read from text material\n",
    "        pos         - position relative to this gram (0 is invalid here)\n",
    "        \"\"\"\n",
    "        if pos > 0:\n",
    "            if pos < len( self.afterarray ):\n",
    "                self.afterarray[-pos].setdefault(gram,0)\n",
    "                self.afterarray[-pos][gram] += 1\n",
    "                self.num_entries += 1\n",
    "            else:\n",
    "                raise ValueError(f\"pos ({pos}) is out of range of {self}.afterarray which is of length {len(self.afterarray)}\")\n",
    "        elif pos < 0:\n",
    "            if pos < len( self.beforearray ):\n",
    "                self.beforearray[pos].setdefault(gram,0)\n",
    "                self.beforearray[pos][gram] += 1\n",
    "                self.num_entries += 1\n",
    "            else:\n",
    "                raise ValueError(f\"pos ({pos}) is out of range of {self}.beforearray which is of length {len(self.beforearray)}\")\n",
    "        else:\n",
    "            raise ValueError(\"pos cannot be 0\")\n",
    "    \n",
    "    def getStatsForPosition(self, pos):\n",
    "        \n",
    "        if pos > 0:\n",
    "            if pos < len( self.afterarray ):\n",
    "                return( self.afterarray[-pos] )\n",
    "            else:\n",
    "                raise ValueError(f\"pos ({-pos}) is out of range of {self}.afterarray which is of length {len(self.afterarray)}\")\n",
    "        elif pos < 0:\n",
    "            if pos < len( self.beforearray ):\n",
    "                return( self.beforearray[pos] )\n",
    "            else:\n",
    "                raise ValueError(f\"pos ({pos}) is out of range of {self}.beforearray which is of length {len(self.beforearray)}\")\n",
    "        else:\n",
    "            raise ValueError(\"pos cannot be 0\")\n",
    "\n",
    "    def getPattern(self):\n",
    "        return(self.pattern)\n",
    "\n",
    "    def __lt__(self, other):\n",
    "        return(self.pattern < other.pattern)\n",
    "    def __gt__(self, other):\n",
    "        return(self.pattern > other.pattern)\n",
    "    def __lte__(self, other):\n",
    "        return(self.pattern <= other.pattern)\n",
    "    def __gte__(self, other):\n",
    "        return(self.pattern >= other.pattern)\n",
    "    def __eq__(self, other):\n",
    "        return(self.pattern == other.pattern)\n",
    "    def __ne__(self, other):\n",
    "        return(self.pattern == other.pattern)\n",
    "\n",
    "    def __hash__(self):\n",
    "        return(self.hashval)\n",
    "    def __str__(self):\n",
    "        s = '<Gram: \"'\n",
    "        s += self.pattern\n",
    "        s += '\" hash: '\n",
    "        s += str(self.hashval)\n",
    "        s += ' entries: '\n",
    "        s += str(self.num_entries)\n",
    "        s += \">\"\n",
    "        return(s)\n",
    "\n"
   ]
  },
  {
   "cell_type": "code",
   "execution_count": 104,
   "metadata": {},
   "outputs": [],
   "source": [
    "class GramData:\n",
    "    def __init__(self, beforenum, afternum):\n",
    "        self.allgrams = dict()\n",
    "        self.allgrams_by_pattern = dict()\n",
    "        self.beforenum = beforenum\n",
    "        self.afternum = afternum\n",
    "        self.emptygram = Gram(\"<EMPTY_GRAM>\", self.beforenum, self.afternum)\n",
    "        self.defaultStartGram = Gram(\"<DEFAULT_START_GRAM>\", self.beforenum, self.afternum)\n",
    "        self.defaultEndGram = Gram(\"<DEFAULT_END_GRAM>\", self.beforenum, self.afternum)\n",
    "    \n",
    "    def addGram(self, gram):\n",
    "        self.allgrams.setdefault(gram, 0)\n",
    "        self.allgrams[gram] += 1\n",
    "\n",
    "        self.allgrams_by_pattern.setdefault(gram.getPattern(),set())\n",
    "        self.allgrams_by_pattern[gram.getPattern()].add(gram)\n",
    "\n",
    "    def readGramSequence(self, gramSequence, startgram = None, endgram = None):\n",
    "        if startgram == None:\n",
    "            startgram = self.defaultStartGram\n",
    "        if endgram == None:\n",
    "            endgram = self.defaultEndGram\n",
    "        \n",
    "        for i,gram in enumerate(gramSequence):\n",
    "            self.addGram(gram)\n",
    "            \n",
    "            ## before gram\n",
    "            for pos in range(-1, self.beforenum, -1):\n",
    "                i_before = i + pos\n",
    "                if i_before < -1:\n",
    "                    beforegram = self.emptygram\n",
    "                elif i_before == -1:\n",
    "                    beforegram = startgram\n",
    "                else:\n",
    "                    beforegram = gramSequence[i_before]\n",
    "                gram.addGram(beforegram, pos)\n",
    "\n",
    "            ## after gram\n",
    "            for pos in range(1, self.afternum, 1):\n",
    "                i_after = i + pos\n",
    "                if i_after > len(gramSequence):\n",
    "                    aftergram = self.emptygram\n",
    "                elif i_after == len(gramSequence):\n",
    "                    aftergram = endgram\n",
    "                else:\n",
    "                    aftergram = gramSequence[i_after]\n",
    "                gram.addGram(aftergram, pos)\n",
    "    \n",
    "    def tokenizeTextBasic(self, s):\n",
    "        gramSequence = []\n",
    "\n",
    "        allchars = set(s)\n",
    "        local_allgrams_by_pattern = dict()\n",
    "        for character in allchars:\n",
    "            if character in local_allgrams_by_pattern:\n",
    "                continue\n",
    "            elif character in self.allgrams_by_pattern:\n",
    "                local_allgrams_by_pattern[character] = list(self.allgrams_by_pattern[character])[0]  ## this won't work with multiple patterns with the same pattern\n",
    "                if len(self.allgrams_by_pattern[character]) > 1:\n",
    "                    warn(f\"tokenizeTextBasic: there are multiple grams for pattern '{character}'\")\n",
    "            else:\n",
    "                local_allgrams_by_pattern[character] = Gram(character, self.beforenum, self.afternum)\n",
    "\n",
    "        for character in s:\n",
    "            gramSequence.append( local_allgrams_by_pattern[character] )\n",
    "\n",
    "        return(gramSequence)\n",
    "\n",
    "            \n",
    "\n",
    "\n",
    "                \n",
    "\n",
    "\n",
    "\n",
    "\n"
   ]
  },
  {
   "cell_type": "code",
   "execution_count": 105,
   "metadata": {
    "tags": []
   },
   "outputs": [],
   "source": [
    "gd = GramData(5,5)\n",
    "gramSequence = gd.tokenizeTextBasic(\"here is a cat\")\n",
    "gd.readGramSequence(gramSequence)\n"
   ]
  },
  {
   "cell_type": "code",
   "execution_count": 108,
   "metadata": {
    "tags": []
   },
   "outputs": [
    {
     "output_type": "stream",
     "name": "stdout",
     "text": "<Gram: \"h\" hash: -709373536 entries: 4> : 1\n<Gram: \"e\" hash: -2088609242 entries: 8> : 2\n<Gram: \"r\" hash: 1511071314 entries: 4> : 1\n<Gram: \" \" hash: 1947830918 entries: 12> : 3\n<Gram: \"i\" hash: -1557622774 entries: 4> : 1\n<Gram: \"s\" hash: 1610470904 entries: 4> : 1\n<Gram: \"a\" hash: 214198794 entries: 8> : 2\n<Gram: \"c\" hash: -1339954065 entries: 4> : 1\n<Gram: \"t\" hash: -277469929 entries: 4> : 1\n"
    }
   ],
   "source": [
    "for gram, count in gd.allgrams.items():\n",
    "    print(f\"{gram} : {count}\")"
   ]
  },
  {
   "cell_type": "code",
   "execution_count": 73,
   "metadata": {
    "tags": []
   },
   "outputs": [
    {
     "output_type": "execute_result",
     "data": {
      "text/plain": "<re.Match object; span=(0, 3), match='cat'>"
     },
     "metadata": {},
     "execution_count": 73
    }
   ],
   "source": [
    "re.match(\"cat\", \"catlcatolok\")\n",
    "\n"
   ]
  },
  {
   "cell_type": "code",
   "execution_count": null,
   "metadata": {},
   "outputs": [],
   "source": []
  },
  {
   "cell_type": "code",
   "execution_count": null,
   "metadata": {},
   "outputs": [],
   "source": []
  }
 ]
}